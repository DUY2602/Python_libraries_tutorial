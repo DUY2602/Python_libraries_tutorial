{
 "cells": [
  {
   "cell_type": "markdown",
   "metadata": {
    "id": "u0e2w8LSEe2x"
   },
   "source": [
    "# **NumPy Arrays: Creating Arrays**"
   ]
  },
  {
   "cell_type": "code",
   "execution_count": 3,
   "metadata": {
    "colab": {
     "base_uri": "https://localhost:8080/"
    },
    "id": "CpPsGoCkD6f_",
    "outputId": "1f70f495-ce19-4866-b7a8-9602b537e9fe"
   },
   "outputs": [
    {
     "data": {
      "text/plain": [
       "array([[9, 3, 9],\n",
       "       [8, 5, 1]])"
      ]
     },
     "execution_count": 3,
     "metadata": {},
     "output_type": "execute_result"
    }
   ],
   "source": [
    "import numpy as np\n",
    "import matplotlib.pylab as plt\n",
    "from numpy import random\n",
    "\n",
    "list_1 = [1, 2, 3, 4, 5, 6]\n",
    "np_arr_1 = np.array(list_1, dtype = np.int8)\n",
    "np_arr_1\n",
    "\n",
    "m_list_1 = [[1, 2, 3], [4, 5, 6], [7, 8, 9]]\n",
    "np_m_arr_1 = np.array(m_list_1)\n",
    "np_m_arr_1\n",
    "\n",
    "np.arange(1, 10)\n",
    "np.linspace(0, 5, 5)\n",
    "\n",
    "np.zeros(5)\n",
    "np.zeros((2, 3))\n",
    "\n",
    "np_m_arr_1.size\n",
    "\n",
    "np_arr_2 = np.array([1, 2, 3, 4, 5, 6])\n",
    "np_arr_2.dtype\n",
    "\n",
    "np.random.randint(1, 10, 2)\n",
    "np.random.randint(1, 10, size = (2, 3))"
   ]
  },
  {
   "cell_type": "markdown",
   "metadata": {
    "id": "hvNzauLkIvkb"
   },
   "source": [
    "# **Slicing & Indexes**"
   ]
  },
  {
   "cell_type": "code",
   "execution_count": 5,
   "metadata": {
    "colab": {
     "base_uri": "https://localhost:8080/"
    },
    "id": "jGo9SCKaJGgg",
    "outputId": "1e39598a-8e5d-46a8-c5eb-f400929e641c"
   },
   "outputs": [
    {
     "name": "stdout",
     "output_type": "stream",
     "text": [
      "np_m_arr_1\n",
      " [[1 2 3]\n",
      " [4 5 6]\n",
      " [7 8 9]]\n"
     ]
    },
    {
     "data": {
      "text/plain": [
       "array([ 2,  3,  5,  6,  8,  9, 10, 20, 30])"
      ]
     },
     "execution_count": 5,
     "metadata": {},
     "output_type": "execute_result"
    }
   ],
   "source": [
    "print(\"np_m_arr_1\\n\", np_m_arr_1)\n",
    "\n",
    "np_m_arr_1[0, 0] = 2\n",
    "np_m_arr_1\n",
    "\n",
    "np_m_arr_1.shape\n",
    "\n",
    "np_m_arr_1.item(0, 2)\n",
    "\n",
    "np.take(np_m_arr_1, (0, 3, 6))\n",
    "\n",
    "np.put(np_m_arr_1, (0, 3, 6), (10, 20, 30))\n",
    "np_m_arr_1\n",
    "\n",
    "np_arr_1[:5:2]\n",
    "np_m_arr_1[:, 1]\n",
    "\n",
    "np_m_arr_1[::-1]\n",
    "\n",
    "evens = np_m_arr_1[np_m_arr_1 % 2 == 0]\n",
    "evens\n",
    "\n",
    "np_m_arr_1[np_m_arr_1 > 5]\n",
    "np_m_arr_1[(np_m_arr_1 > 5) & (np_m_arr_1 < 10)]\n",
    "np_m_arr_1[(np_m_arr_1 == 5) | (np_m_arr_1 == 10)]\n",
    "\n",
    "np.unique(np_m_arr_1)"
   ]
  },
  {
   "cell_type": "markdown",
   "metadata": {
    "id": "VZtHhk6YPa2a"
   },
   "source": [
    "# **Reshaping Arrays**"
   ]
  },
  {
   "cell_type": "code",
   "execution_count": 7,
   "metadata": {
    "colab": {
     "base_uri": "https://localhost:8080/"
    },
    "id": "RKQ6WoDTPhIL",
    "outputId": "30059524-5963-4ab1-c986-61af77accb38"
   },
   "outputs": [
    {
     "data": {
      "text/plain": [
       "array([[ 2,  3, 10],\n",
       "       [ 5,  6, 20],\n",
       "       [ 8,  9, 30]])"
      ]
     },
     "execution_count": 7,
     "metadata": {},
     "output_type": "execute_result"
    }
   ],
   "source": [
    "np_m_arr_1.reshape((1, 9))\n",
    "np.resize(np_m_arr_1, (2, 5))\n",
    "\n",
    "np_m_arr_1.transpose()\n",
    "np_m_arr_1.swapaxes(0,1)\n",
    "\n",
    "np_m_arr_1.flatten('F')\n",
    "\n",
    "np_m_arr_1.sort(axis=1)\n",
    "np_m_arr_1"
   ]
  },
  {
   "cell_type": "markdown",
   "metadata": {
    "id": "auhGvf54SA_f"
   },
   "source": [
    "# **Stacking and Splitting**"
   ]
  },
  {
   "cell_type": "code",
   "execution_count": 9,
   "metadata": {
    "colab": {
     "base_uri": "https://localhost:8080/"
    },
    "id": "DDAuagDHSEzg",
    "outputId": "63654f81-eb6c-4564-8623-ac2488edb43c"
   },
   "outputs": [
    {
     "name": "stdout",
     "output_type": "stream",
     "text": [
      "ss_arr_1 \n",
      " [[2 8]\n",
      " [3 9]]\n",
      "ss_arr_2 \n",
      " [[0 3]\n",
      " [2 6]]\n",
      "ss_arr_5 \n",
      " [[6 7 2 7 8 1 7 0 6 1]\n",
      " [3 0 1 8 6 8 6 0 5 8]]\n"
     ]
    },
    {
     "data": {
      "text/plain": [
       "[array([[6, 7],\n",
       "        [3, 0]]),\n",
       " array([[2, 7],\n",
       "        [1, 8]]),\n",
       " array([[8, 1, 7, 0, 6, 1],\n",
       "        [6, 8, 6, 0, 5, 8]])]"
      ]
     },
     "execution_count": 9,
     "metadata": {},
     "output_type": "execute_result"
    }
   ],
   "source": [
    "ss_arr_1 = np.random.randint(10, size = (2, 2))\n",
    "print(\"ss_arr_1 \\n\", ss_arr_1)\n",
    "ss_arr_2 = np.random.randint(10, size = (2, 2))\n",
    "print(\"ss_arr_2 \\n\", ss_arr_2)\n",
    "\n",
    "np.vstack((ss_arr_1, ss_arr_2))\n",
    "np.hstack((ss_arr_1, ss_arr_2))\n",
    "\n",
    "ss_arr_3 = np.delete(ss_arr_1, 1, 0)\n",
    "ss_arr_4 = np.delete(ss_arr_2, 0, 0)\n",
    "\n",
    "np.column_stack((ss_arr_1, ss_arr_2))\n",
    "\n",
    "ss_arr_5 = np.random.randint(10, size = (2, 10))\n",
    "print(\"ss_arr_5 \\n\", ss_arr_5)\n",
    "np.hsplit(ss_arr_5, 5)\n",
    "np.hsplit(ss_arr_5, (2, 4))\n"
   ]
  },
  {
   "cell_type": "markdown",
   "metadata": {
    "id": "pX7UnmcdW1e7"
   },
   "source": [
    "# **Copying**"
   ]
  },
  {
   "cell_type": "code",
   "execution_count": 11,
   "metadata": {
    "colab": {
     "base_uri": "https://localhost:8080/"
    },
    "id": "9tvK9lVCW4kW",
    "outputId": "40d30c32-d50f-48c4-eb56-4e240e8b296a"
   },
   "outputs": [
    {
     "name": "stdout",
     "output_type": "stream",
     "text": [
      "cp_arr_1 \n",
      " [[2 3]\n",
      " [5 8]]\n",
      "cp_arr_2 \n",
      " [[2 3]\n",
      " [5 8]]\n",
      "cp_arr_1\n",
      " [[2 3]\n",
      " [5 8]]\n"
     ]
    }
   ],
   "source": [
    "cp_arr_1 = np.random.randint(10, size = (2, 2))\n",
    "cp_arr_2 = cp_arr_1\n",
    "cp_arr_1[0, 0] = 2\n",
    "print(\"cp_arr_1 \\n\", cp_arr_1)\n",
    "print(\"cp_arr_2 \\n\", cp_arr_2)\n",
    "\n",
    "cp_arr_3 = cp_arr_1.view()\n",
    "cp_arr_3.flatten('F')\n",
    "print(\"cp_arr_1\\n\", cp_arr_1)\n",
    "\n",
    "cp_arr_4 = cp_arr_1.copy()"
   ]
  },
  {
   "cell_type": "markdown",
   "metadata": {
    "id": "MgJ2AkifiZfT"
   },
   "source": [
    "# **Basic** **Math**"
   ]
  },
  {
   "cell_type": "code",
   "execution_count": 13,
   "metadata": {
    "colab": {
     "base_uri": "https://localhost:8080/"
    },
    "id": "QDAso7AUiheR",
    "outputId": "b25922fb-92f6-4514-992e-0d940cd9cb7a"
   },
   "outputs": [
    {
     "name": "stdout",
     "output_type": "stream",
     "text": [
      "[[73  7 71]\n",
      " [ 5  8 72]]\n",
      "[[5 6 7]\n",
      " [4 5 8]\n",
      " [1 8 9]\n",
      " [0 9 1]\n",
      " [9 0 2]]\n"
     ]
    },
    {
     "data": {
      "text/plain": [
       "array([[9, 0, 2],\n",
       "       [0, 9, 1],\n",
       "       [1, 8, 9]])"
      ]
     },
     "execution_count": 13,
     "metadata": {},
     "output_type": "execute_result"
    }
   ],
   "source": [
    "arr_3 = np.array([1, 2, 3, 4])\n",
    "arr_4 = np.array([2, 4, 6, 8])\n",
    "arr_3 + arr_4\n",
    "\n",
    "arr_5 = random.randint(100, size=(4))\n",
    "arr_6 = random.randint(100, size=(2, 3))\n",
    "random.choice(arr_3)\n",
    "\n",
    "arr_3.sum()\n",
    "print(arr_6)\n",
    "arr_6.cumsum(axis=1)\n",
    "arr_6.min(axis=1)\n",
    "arr_6.max(axis=1)\n",
    "\n",
    "np.add(arr_3, 5)\n",
    "np.add(arr_3, arr_4)\n",
    "\n",
    "arr_7 = np.array([[1, 2], [3, 4]])\n",
    "arr_8 = np.array([[2, 4], [6, 9]])\n",
    "np.remainder(arr_8, arr_7)\n",
    "np.power(arr_8, arr_7)\n",
    "np.sqrt(arr_8)\n",
    "np.cbrt(arr_8)\n",
    "\n",
    "np.absolute([-1, -2])\n",
    "np.exp(arr_8)\n",
    "\n",
    "np.gcd.reduce([9, 12, 15])\n",
    "np.lcm.reduce([9, 12, 15])\n",
    "\n",
    "np.floor([1.2, 2.5])\n",
    "np.ceil([1.2, 2.5])\n",
    "\n",
    "sq_arr = np.arange(6) ** 2\n",
    "sq_arr\n",
    "\n",
    "arr_9 = np.random.randint(10, size = (5, 3))\n",
    "print(arr_9)\n",
    "\n",
    "mc_index = arr_9.argmax(axis = 0)\n",
    "mc_index\n",
    "max_nums = arr_9[mc_index]\n",
    "max_nums"
   ]
  },
  {
   "cell_type": "markdown",
   "metadata": {
    "id": "xE1UIazjVwyv"
   },
   "source": [
    "# **Reading from Files**"
   ]
  },
  {
   "cell_type": "code",
   "execution_count": 15,
   "metadata": {
    "id": "0ZRnZS0WV2Sx"
   },
   "outputs": [
    {
     "data": {
      "text/plain": [
       "[array([], dtype=float64),\n",
       " array([ 37., 292.]),\n",
       " array([ 40., 228.]),\n",
       " array([ 49., 324.]),\n",
       " array([ 61., 376.]),\n",
       " array([ 72., 440.]),\n",
       " array([ 79., 496.]),\n",
       " array([ 83., 536.]),\n",
       " array([ 81., 556.]),\n",
       " array([ 75., 496.]),\n",
       " array([ 64., 412.]),\n",
       " array([ 53., 324.]),\n",
       " array([ 42., 320.])]"
      ]
     },
     "execution_count": 15,
     "metadata": {},
     "output_type": "execute_result"
    }
   ],
   "source": [
    "import pandas as pd\n",
    "from numpy import genfromtxt\n",
    "\n",
    "ic_sales = pd.read_csv('icecreamsales.csv').to_numpy()\n",
    "ic_sales\n",
    "\n",
    "ic_sales_2 = genfromtxt('icecreamsales.csv', delimiter=',')\n",
    "ic_sales_2 = [row[~np.isnan(row)] for row in ic_sales_2]\n",
    "ic_sales_2\n"
   ]
  },
  {
   "cell_type": "markdown",
   "metadata": {},
   "source": [
    "# **Statistic Functions**"
   ]
  },
  {
   "cell_type": "code",
   "execution_count": 17,
   "metadata": {},
   "outputs": [
    {
     "name": "stdout",
     "output_type": "stream",
     "text": [
      "ice cream sales: \n",
      " [[ 37 292]\n",
      " [ 40 228]\n",
      " [ 49 324]\n",
      " [ 61 376]\n",
      " [ 72 440]\n",
      " [ 79 496]\n",
      " [ 83 536]\n",
      " [ 81 556]\n",
      " [ 75 496]\n",
      " [ 64 412]\n",
      " [ 53 324]\n",
      " [ 42 320]]\n"
     ]
    },
    {
     "data": {
      "text/plain": [
       "array([252.5019239 , 270.68661821, 325.24070115, 397.97947841,\n",
       "       464.65669089, 507.08764429, 531.33390338, 519.21077383,\n",
       "       482.84138521, 416.16417272, 349.48696024, 282.80974776])"
      ]
     },
     "execution_count": 17,
     "metadata": {},
     "output_type": "execute_result"
    }
   ],
   "source": [
    "sarr_1 = np.arange(1, 10)\n",
    "sarr_1\n",
    "np.mean(sarr_1)\n",
    "np.median(sarr_1)\n",
    "np.average(sarr_1)\n",
    "np.std([4, 3, 6, 5, 3])\n",
    "np.var([4, 3, 6, 5, 3])\n",
    "# nanmean, nanmedian, nanaverage, nanstd, nanvar\n",
    "\n",
    "print(\"ice cream sales: \\n\", ic_sales)\n",
    "np.percentile(ic_sales, 50, axis=0)\n",
    "\n",
    "np.corrcoef(ic_sales[:, 0], ic_sales[:, 1])\n",
    "\n",
    "temp_mean = np.mean(ic_sales[:, 0])\n",
    "sale_mean = np.mean(ic_sales[:, 1])\n",
    "numerator = np.sum((ic_sales[:, 0] - temp_mean) * (ic_sales[:, 1] - sale_mean))\n",
    "denominator = np.sum(np.square(ic_sales[:, 0] - temp_mean))\n",
    "slope = numerator / denominator\n",
    "\n",
    "y_i = sale_mean - slope * temp_mean\n",
    "y_i\n",
    "reg_arr = ic_sales[:, 0] * slope + y_i\n",
    "reg_arr\n"
   ]
  },
  {
   "cell_type": "markdown",
   "metadata": {},
   "source": [
    "# **Trig Functions**"
   ]
  },
  {
   "cell_type": "code",
   "execution_count": 19,
   "metadata": {},
   "outputs": [
    {
     "data": {
      "text/plain": [
       "5.0"
      ]
     },
     "execution_count": 19,
     "metadata": {},
     "output_type": "execute_result"
    },
    {
     "data": {
      "image/png": "[encoded data removed]",
      "text/plain": [
       "<Figure size 640x480 with 1 Axes>"
      ]
     },
     "metadata": {},
     "output_type": "display_data"
    }
   ],
   "source": [
    "t_arr = np.linspace(-np.pi, np.pi, 200)\n",
    "plt.plot(t_arr, np.sin(t_arr))\n",
    "plt.plot(t_arr, np.cos(t_arr))\n",
    "plt.plot(t_arr, np.tan(t_arr))\n",
    "\n",
    "# y = cos(x) => x = arccos(y)\n",
    "np.arcsin(1)\n",
    "np.arccos(1)\n",
    "np.arctan(1)\n",
    "\n",
    "np.rad2deg(np.pi)\n",
    "np.deg2rad(180)\n",
    "\n",
    "np.hypot(3, 4)"
   ]
  },
  {
   "cell_type": "markdown",
   "metadata": {},
   "source": [
    "# **Linear Algebra Functions**"
   ]
  },
  {
   "cell_type": "code",
   "execution_count": 89,
   "metadata": {},
   "outputs": [
    {
     "data": {
      "text/plain": [
       "array([[1, 0],\n",
       "       [0, 1]])"
      ]
     },
     "execution_count": 89,
     "metadata": {},
     "output_type": "execute_result"
    }
   ],
   "source": [
    "from numpy import linalg as la\n",
    "la_arr_1 = np.array([[1, 2], [3, 4]])\n",
    "la_arr_2 = np.array([[2, 4], [6, 9]])\n",
    "la_arr_3 = np.array([[5, 6], [7, 8]])\n",
    "\n",
    "np.dot(la_arr_1, la_arr_2)\n",
    "\n",
    "la.multi_dot([la_arr_1, la_arr_2, la_arr_3])\n",
    "np.inner(la_arr_1, la_arr_2)\n",
    "\n",
    "la_arr_4 = np.array([[[1, 2], [3, 4]], [[5, 6], [7, 8]]])\n",
    "la_arr_4\n",
    "la_arr_5 = np.array([[1, 2], [3, 4]], dtype = object)\n",
    "np.tensordot(la_arr_4, la_arr_5)\n",
    "\n",
    "la_arr_6 = np.array([[0, 1], [2, 3]])\n",
    "la_arr_7 = np.array([[0, 1, 2, 3], [4, 5, 6, 7]])\n",
    "np.einsum('ij, jk -> ik', la_arr_6, la_arr_7)\n",
    "np.einsum('ij ->', la_arr_6)\n",
    "np.einsum('ji', la_arr_7)\n",
    "\n",
    "la.matrix_power(la_arr_6, 2)\n",
    "\n",
    "np.kron(la_arr_6, la_arr_7)\n",
    "\n",
    "la.eig(la_arr_6)\n",
    "la.eigvals(la_arr_6)\n",
    "\n",
    "la.norm(la_arr_6)\n",
    "\n",
    "la.inv(la_arr_6)\n",
    "\n",
    "la.cond(la_arr_6)\n",
    "\n",
    "la_arr_8 = np.array([[1, 2], [3, 4]])\n",
    "la.det(la_arr_8)\n",
    "la_arr_8_inv = la.inv(la_arr_8)\n",
    "la_arr_8_inv\n",
    "np.dot(la_arr_8, la_arr_8_inv)\n",
    "\n",
    "la_arr_9 = np.array([[1, 4], [6, 18]])\n",
    "la_arr_10 = np.array([10, 42])\n",
    "la.solve(la_arr_9, la_arr_10)\n",
    "\n",
    "np.eye(2, 2, dtype=int)"
   ]
  },
  {
   "cell_type": "code",
   "execution_count": null,
   "metadata": {},
   "outputs": [],
   "source": []
  }
 ],
 "metadata": {
  "colab": {
   "provenance": []
  },
  "kernelspec": {
   "display_name": "Python [conda env:base] *",
   "language": "python",
   "name": "conda-base-py"
  },
  "language_info": {
   "codemirror_mode": {
    "name": "ipython",
    "version": 3
   },
   "file_extension": ".py",
   "mimetype": "text/x-python",
   "name": "python",
   "nbconvert_exporter": "python",
   "pygments_lexer": "ipython3",
   "version": "3.12.7"
  }
 },
 "nbformat": 4,
 "nbformat_minor": 4
}
