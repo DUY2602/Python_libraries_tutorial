{
 "cells": [
  {
   "cell_type": "markdown",
   "metadata": {
    "id": "u0e2w8LSEe2x"
   },
   "source": [
    "# **NumPy Arrays: Creating Arrays**"
   ]
  },
  {
   "cell_type": "code",
   "execution_count": 2,
   "metadata": {
    "colab": {
     "base_uri": "https://localhost:8080/"
    },
    "id": "CpPsGoCkD6f_",
    "outputId": "1f70f495-ce19-4866-b7a8-9602b537e9fe"
   },
   "outputs": [
    {
     "data": {
      "text/plain": [
       "array([[3, 5, 5],\n",
       "       [9, 9, 9]], dtype=int32)"
      ]
     },
     "execution_count": 2,
     "metadata": {},
     "output_type": "execute_result"
    }
   ],
   "source": [
    "import numpy as np\n",
    "import matplotlib.pylab as plt\n",
    "from numpy import random\n",
    "\n",
    "list_1 = [1, 2, 3, 4, 5, 6]\n",
    "np_arr_1 = np.array(list_1, dtype = np.int8)\n",
    "np_arr_1\n",
    "\n",
    "m_list_1 = [[1, 2, 3], [4, 5, 6], [7, 8, 9]]\n",
    "np_m_arr_1 = np.array(m_list_1)\n",
    "np_m_arr_1\n",
    "\n",
    "np.arange(1, 10)\n",
    "np.linspace(0, 5, 5)\n",
    "\n",
    "np.zeros(5)\n",
    "np.zeros((2, 3))\n",
    "\n",
    "np_m_arr_1.size\n",
    "\n",
    "np_arr_2 = np.array([1, 2, 3, 4, 5, 6])\n",
    "np_arr_2.dtype\n",
    "\n",
    "np.random.randint(1, 10, 2)\n",
    "np.random.randint(1, 10, size = (2, 3))"
   ]
  },
  {
   "cell_type": "markdown",
   "metadata": {
    "id": "hvNzauLkIvkb"
   },
   "source": [
    "# **Slicing & Indexes**"
   ]
  },
  {
   "cell_type": "code",
   "execution_count": 3,
   "metadata": {
    "colab": {
     "base_uri": "https://localhost:8080/"
    },
    "id": "jGo9SCKaJGgg",
    "outputId": "1e39598a-8e5d-46a8-c5eb-f400929e641c"
   },
   "outputs": [
    {
     "name": "stdout",
     "output_type": "stream",
     "text": [
      "np_m_arr_1\n",
      " [[1 2 3]\n",
      " [4 5 6]\n",
      " [7 8 9]]\n"
     ]
    },
    {
     "data": {
      "text/plain": [
       "array([ 2,  3,  5,  6,  8,  9, 10, 20, 30])"
      ]
     },
     "execution_count": 3,
     "metadata": {},
     "output_type": "execute_result"
    }
   ],
   "source": [
    "print(\"np_m_arr_1\\n\", np_m_arr_1)\n",
    "\n",
    "np_m_arr_1[0, 0] = 2\n",
    "np_m_arr_1\n",
    "\n",
    "np_m_arr_1.shape\n",
    "\n",
    "np_m_arr_1.item(0, 2)\n",
    "\n",
    "np.take(np_m_arr_1, (0, 3, 6))\n",
    "\n",
    "np.put(np_m_arr_1, (0, 3, 6), (10, 20, 30))\n",
    "np_m_arr_1\n",
    "\n",
    "np_arr_1[:5:2]\n",
    "np_m_arr_1[:,1]\n",
    "\n",
    "np_m_arr_1[::-1]\n",
    "\n",
    "evens = np_m_arr_1[np_m_arr_1 % 2 == 0]\n",
    "evens\n",
    "\n",
    "np_m_arr_1[np_m_arr_1 > 5]\n",
    "np_m_arr_1[(np_m_arr_1 > 5) & (np_m_arr_1 < 10)]\n",
    "np_m_arr_1[(np_m_arr_1 == 5) | (np_m_arr_1 == 10)]\n",
    "\n",
    "np.unique(np_m_arr_1)"
   ]
  },
  {
   "cell_type": "markdown",
   "metadata": {
    "id": "VZtHhk6YPa2a"
   },
   "source": [
    "# **Reshaping Arrays**"
   ]
  },
  {
   "cell_type": "code",
   "execution_count": 4,
   "metadata": {
    "colab": {
     "base_uri": "https://localhost:8080/"
    },
    "id": "RKQ6WoDTPhIL",
    "outputId": "30059524-5963-4ab1-c986-61af77accb38"
   },
   "outputs": [
    {
     "data": {
      "text/plain": [
       "array([[ 2,  3, 10],\n",
       "       [ 5,  6, 20],\n",
       "       [ 8,  9, 30]])"
      ]
     },
     "execution_count": 4,
     "metadata": {},
     "output_type": "execute_result"
    }
   ],
   "source": [
    "np_m_arr_1.reshape((1, 9))\n",
    "np.resize(np_m_arr_1, (2, 5))\n",
    "\n",
    "np_m_arr_1.transpose()\n",
    "np_m_arr_1.swapaxes(0,1)\n",
    "\n",
    "np_m_arr_1.flatten('F')\n",
    "\n",
    "np_m_arr_1.sort(axis=1)\n",
    "np_m_arr_1"
   ]
  },
  {
   "cell_type": "markdown",
   "metadata": {
    "id": "auhGvf54SA_f"
   },
   "source": [
    "# **Stacking and Splitting**"
   ]
  },
  {
   "cell_type": "code",
   "execution_count": 5,
   "metadata": {
    "colab": {
     "base_uri": "https://localhost:8080/"
    },
    "id": "DDAuagDHSEzg",
    "outputId": "63654f81-eb6c-4564-8623-ac2488edb43c"
   },
   "outputs": [
    {
     "name": "stdout",
     "output_type": "stream",
     "text": [
      "ss_arr_1 \n",
      " [[8 0]\n",
      " [6 8]]\n",
      "ss_arr_2 \n",
      " [[8 3]\n",
      " [1 7]]\n",
      "ss_arr_5 \n",
      " [[9 3 3 0 5 2 6 1 0 5]\n",
      " [4 6 0 2 4 1 1 0 6 6]]\n"
     ]
    },
    {
     "data": {
      "text/plain": [
       "[array([[9, 3],\n",
       "        [4, 6]], dtype=int32),\n",
       " array([[3, 0],\n",
       "        [0, 2]], dtype=int32),\n",
       " array([[5, 2, 6, 1, 0, 5],\n",
       "        [4, 1, 1, 0, 6, 6]], dtype=int32)]"
      ]
     },
     "execution_count": 5,
     "metadata": {},
     "output_type": "execute_result"
    }
   ],
   "source": [
    "ss_arr_1 = np.random.randint(10, size = (2, 2))\n",
    "print(\"ss_arr_1 \\n\", ss_arr_1)\n",
    "ss_arr_2 = np.random.randint(10, size = (2, 2))\n",
    "print(\"ss_arr_2 \\n\", ss_arr_2)\n",
    "\n",
    "np.vstack((ss_arr_1, ss_arr_2))\n",
    "np.hstack((ss_arr_1, ss_arr_2))\n",
    "\n",
    "ss_arr_3 = np.delete(ss_arr_1, 1, 0)\n",
    "ss_arr_4 = np.delete(ss_arr_2, 0, 0)\n",
    "\n",
    "np.column_stack((ss_arr_1, ss_arr_2))\n",
    "\n",
    "ss_arr_5 = np.random.randint(10, size = (2, 10))\n",
    "print(\"ss_arr_5 \\n\", ss_arr_5)\n",
    "np.hsplit(ss_arr_5, 5)\n",
    "np.hsplit(ss_arr_5, (2, 4))\n"
   ]
  },
  {
   "cell_type": "markdown",
   "metadata": {
    "id": "pX7UnmcdW1e7"
   },
   "source": [
    "# **Copying**"
   ]
  },
  {
   "cell_type": "code",
   "execution_count": 4,
   "metadata": {
    "colab": {
     "base_uri": "https://localhost:8080/"
    },
    "id": "9tvK9lVCW4kW",
    "outputId": "40d30c32-d50f-48c4-eb56-4e240e8b296a"
   },
   "outputs": [
    {
     "name": "stdout",
     "output_type": "stream",
     "text": [
      "cp_arr_1 \n",
      " [[2 3]\n",
      " [4 6]]\n",
      "cp_arr_2 \n",
      " [[2 3]\n",
      " [4 6]]\n",
      "cp_arr_1\n",
      " [[2 3]\n",
      " [4 6]]\n"
     ]
    }
   ],
   "source": [
    "cp_arr_1 = np.random.randint(10, size = (2, 2))\n",
    "cp_arr_2 = cp_arr_1\n",
    "cp_arr_1[0, 0] = 2\n",
    "print(\"cp_arr_1 \\n\", cp_arr_1)\n",
    "print(\"cp_arr_2 \\n\", cp_arr_2)\n",
    "\n",
    "cp_arr_3 = cp_arr_1.view()\n",
    "cp_arr_3.flatten('F')\n",
    "print(\"cp_arr_1\\n\", cp_arr_1)\n",
    "\n",
    "cp_arr_4 = cp_arr_1.copy()"
   ]
  },
  {
   "cell_type": "markdown",
   "metadata": {
    "id": "MgJ2AkifiZfT"
   },
   "source": [
    "# **Basic** **Math**"
   ]
  },
  {
   "cell_type": "code",
   "execution_count": 52,
   "metadata": {
    "colab": {
     "base_uri": "https://localhost:8080/"
    },
    "id": "QDAso7AUiheR",
    "outputId": "b25922fb-92f6-4514-992e-0d940cd9cb7a"
   },
   "outputs": [
    {
     "name": "stdout",
     "output_type": "stream",
     "text": [
      "[[96 61 40]\n",
      " [75 50 76]]\n",
      "[[9 9 3]\n",
      " [1 9 0]\n",
      " [5 5 0]\n",
      " [5 1 2]\n",
      " [1 6 7]]\n"
     ]
    },
    {
     "data": {
      "text/plain": [
       "array([[9, 9, 3],\n",
       "       [9, 9, 3],\n",
       "       [1, 6, 7]])"
      ]
     },
     "execution_count": 52,
     "metadata": {},
     "output_type": "execute_result"
    }
   ],
   "source": [
    "arr_3 = np.array([1, 2, 3, 4])\n",
    "arr_4 = np.array([2, 4, 6, 8])\n",
    "arr_3 + arr_4\n",
    "\n",
    "arr_5 = random.randint(100, size=(4))\n",
    "arr_6 = random.randint(100, size=(2, 3))\n",
    "random.choice(arr_3)\n",
    "\n",
    "arr_3.sum()\n",
    "print(arr_6)\n",
    "arr_6.cumsum(axis=1)\n",
    "arr_6.min(axis=1)\n",
    "arr_6.max(axis=1)\n",
    "\n",
    "np.add(arr_3, 5)\n",
    "np.add(arr_3, arr_4)\n",
    "\n",
    "arr_7 = np.array([[1, 2], [3, 4]])\n",
    "arr_8 = np.array([[2, 4], [6, 9]])\n",
    "np.remainder(arr_8, arr_7)\n",
    "np.power(arr_8, arr_7)\n",
    "np.sqrt(arr_8)\n",
    "np.cbrt(arr_8)\n",
    "\n",
    "np.absolute([-1, -2])\n",
    "np.exp(arr_8)\n",
    "\n",
    "np.gcd.reduce([9, 12, 15])\n",
    "np.lcm.reduce([9, 12, 15])\n",
    "\n",
    "np.floor([1.2, 2.5])\n",
    "np.ceil([1.2, 2.5])\n",
    "\n",
    "sq_arr = np.arange(6) ** 2\n",
    "sq_arr\n",
    "\n",
    "arr_9 = np.random.randint(10, size = (5, 3))\n",
    "print(arr_9)\n",
    "\n",
    "mc_index = arr_9.argmax(axis = 0)\n",
    "mc_index\n",
    "max_nums = arr_9[mc_index]\n",
    "max_nums"
   ]
  },
  {
   "cell_type": "markdown",
   "metadata": {
    "id": "xE1UIazjVwyv"
   },
   "source": [
    "# **Reading from Files**"
   ]
  },
  {
   "cell_type": "code",
   "execution_count": 13,
   "metadata": {
    "id": "0ZRnZS0WV2Sx"
   },
   "outputs": [
    {
     "data": {
      "text/plain": [
       "array([[ 37, 292],\n",
       "       [ 40, 228],\n",
       "       [ 49, 324],\n",
       "       [ 61, 376],\n",
       "       [ 72, 440],\n",
       "       [ 79, 496],\n",
       "       [ 83, 536],\n",
       "       [ 81, 556],\n",
       "       [ 75, 496],\n",
       "       [ 64, 412],\n",
       "       [ 53, 324],\n",
       "       [ 42, 320]])"
      ]
     },
     "execution_count": 13,
     "metadata": {},
     "output_type": "execute_result"
    }
   ],
   "source": [
    "import pandas as pd\n",
    "from numpy import genfromtxt\n",
    "\n",
    "ic_sales = pd.read_csv('icecreamsales.csv').to_numpy()\n",
    "ic_sales\n",
    "\n",
    "ic_sales_2 = genfromtxt"
   ]
  }
 ],
 "metadata": {
  "colab": {
   "provenance": []
  },
  "kernelspec": {
   "display_name": "Python [conda env:base] *",
   "language": "python",
   "name": "conda-base-py"
  },
  "language_info": {
   "codemirror_mode": {
    "name": "ipython",
    "version": 3
   },
   "file_extension": ".py",
   "mimetype": "text/x-python",
   "name": "python",
   "nbconvert_exporter": "python",
   "pygments_lexer": "ipython3",
   "version": "3.13.5"
  }
 },
 "nbformat": 4,
 "nbformat_minor": 4
}
